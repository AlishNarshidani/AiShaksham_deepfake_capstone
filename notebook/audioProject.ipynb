{
 "cells": [
  {
   "metadata": {
    "ExecuteTime": {
     "end_time": "2024-06-07T08:51:28.966557Z",
     "start_time": "2024-06-07T08:51:28.956265Z"
    }
   },
   "cell_type": "code",
   "source": [
    "import os\n",
    "import librosa\n",
    "import numpy as np\n",
    "from sklearn.model_selection import train_test_split\n",
    "from sklearn import svm\n",
    "from sklearn.metrics import classification_report\n",
    "from joblib import dump"
   ],
   "id": "3b5a0040d6be60a1",
   "outputs": [],
   "execution_count": 22
  },
  {
   "metadata": {
    "ExecuteTime": {
     "end_time": "2024-06-07T07:36:38.596890Z",
     "start_time": "2024-06-07T07:36:18.700002Z"
    }
   },
   "cell_type": "code",
   "source": [
    "def load_audio_files(audio_dir):\n",
    "    audio_files = os.listdir(audio_dir)\n",
    "    audios = []\n",
    "    sample_rates = []\n",
    "    for file in audio_files:\n",
    "        file_path = os.path.join(audio_dir, file)\n",
    "        audio, sample_rate = librosa.load(file_path)\n",
    "        audios.append(audio)\n",
    "        sample_rates.append(sample_rate)\n",
    "    return audios, sample_rates\n",
    "\n",
    "real_audios, real_sample_rates = load_audio_files(\"Audio Dataset/Test/Original_audios\")\n",
    "fake_audios, fake_sample_rates = load_audio_files(\"Audio Dataset/Test/Fake_audios\")"
   ],
   "id": "initial_id",
   "outputs": [],
   "execution_count": 12
  },
  {
   "metadata": {
    "ExecuteTime": {
     "end_time": "2024-06-07T07:27:22.884868Z",
     "start_time": "2024-06-07T07:27:06.296160Z"
    }
   },
   "cell_type": "code",
   "source": [
    "def extract_features(audios, sample_rates):\n",
    "    features = []\n",
    "    for audio, sample_rate in zip(audios, sample_rates):\n",
    "        mfccs = librosa.feature.mfcc(y=audio, sr=sample_rate, n_mfcc=13)\n",
    "        mfccs_scaled = np.mean(mfccs.T, axis=0)\n",
    "        features.append(mfccs_scaled)\n",
    "    return features\n",
    "\n",
    "real_features = extract_features(real_audios, real_sample_rates)\n",
    "fake_features = extract_features(fake_audios, fake_sample_rates)"
   ],
   "id": "e0fee2bdfa3cba0c",
   "outputs": [],
   "execution_count": 5
  },
  {
   "metadata": {
    "ExecuteTime": {
     "end_time": "2024-06-07T07:32:25.273047Z",
     "start_time": "2024-06-07T07:32:25.267003Z"
    }
   },
   "cell_type": "code",
   "source": [
    "features = real_features + fake_features\n",
    "labels = [1]*len(real_features) + [0]*len(fake_features)\n",
    "features_train, features_test, labels_train, labels_test = train_test_split(features, labels, test_size=0.2, random_state=42)"
   ],
   "id": "9cdfe39b78a79788",
   "outputs": [],
   "execution_count": 7
  },
  {
   "metadata": {
    "ExecuteTime": {
     "end_time": "2024-06-07T07:34:27.214785Z",
     "start_time": "2024-06-07T07:34:27.174714Z"
    }
   },
   "cell_type": "code",
   "source": [
    "model = svm.SVC(kernel='linear')\n",
    "model.fit(features_train, labels_train)\n",
    "labels_pred = model.predict(features_test)\n",
    "print(classification_report(labels_test, labels_pred))"
   ],
   "id": "bb25749b15618c8c",
   "outputs": [
    {
     "name": "stdout",
     "output_type": "stream",
     "text": [
      "              precision    recall  f1-score   support\n",
      "\n",
      "           0       1.00      1.00      1.00        11\n",
      "           1       1.00      1.00      1.00         2\n",
      "\n",
      "    accuracy                           1.00        13\n",
      "   macro avg       1.00      1.00      1.00        13\n",
      "weighted avg       1.00      1.00      1.00        13\n",
      "\n"
     ]
    }
   ],
   "execution_count": 10
  },
  {
   "metadata": {
    "ExecuteTime": {
     "end_time": "2024-06-07T08:51:33.336457Z",
     "start_time": "2024-06-07T08:51:33.310280Z"
    }
   },
   "cell_type": "code",
   "source": "dump(model,'model.joblib')",
   "id": "2c2e9ad9ab870fdf",
   "outputs": [
    {
     "data": {
      "text/plain": [
       "['model.joblib']"
      ]
     },
     "execution_count": 23,
     "metadata": {},
     "output_type": "execute_result"
    }
   ],
   "execution_count": 23
  },
  {
   "metadata": {
    "ExecuteTime": {
     "end_time": "2024-06-07T08:37:14.483475Z",
     "start_time": "2024-06-07T08:37:14.404839Z"
    }
   },
   "cell_type": "code",
   "source": [
    "def classify_audio(file_path, model):\n",
    "    audio, sample_rate = librosa.load(file_path)\n",
    "    features = extract_features([audio], [sample_rate])\n",
    "    prediction = model.predict(features)\n",
    "    \n",
    "    print(prediction[0])\n",
    "    return 'Real' if prediction[0] == 1 else 'Fake'\n",
    "\n",
    "file_path = 'a.mp3'\n",
    "print(classify_audio(file_path, model))"
   ],
   "id": "c9f8f72733624565",
   "outputs": [
    {
     "name": "stdout",
     "output_type": "stream",
     "text": [
      "0\n",
      "Fake\n"
     ]
    }
   ],
   "execution_count": 20
  },
  {
   "metadata": {},
   "cell_type": "code",
   "outputs": [],
   "execution_count": null,
   "source": "",
   "id": "26496beddc8ffcc4"
  }
 ],
 "metadata": {
  "kernelspec": {
   "display_name": "Python 3",
   "language": "python",
   "name": "python3"
  },
  "language_info": {
   "codemirror_mode": {
    "name": "ipython",
    "version": 2
   },
   "file_extension": ".py",
   "mimetype": "text/x-python",
   "name": "python",
   "nbconvert_exporter": "python",
   "pygments_lexer": "ipython2",
   "version": "2.7.6"
  }
 },
 "nbformat": 4,
 "nbformat_minor": 5
}
